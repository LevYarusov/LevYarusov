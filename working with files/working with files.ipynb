{
  "nbformat": 4,
  "nbformat_minor": 0,
  "metadata": {
    "colab": {
      "name": "Files.ipynb",
      "provenance": [],
      "collapsed_sections": []
    },
    "kernelspec": {
      "name": "python3",
      "display_name": "Python 3"
    },
    "language_info": {
      "name": "python"
    }
  },
  "cells": [
    {
      "cell_type": "markdown",
      "metadata": {
        "id": "vHzpctzudf4s"
      },
      "source": [
        "# Sample Filesystem Interaction Project\n",
        "\n",
        "---\n",
        "\n",
        "Given the files \"purchase_log.txt\" and \"visit_log.csv\", output a new file named \"funnel.csv\".\n",
        "\n",
        "INPUT:\n",
        "\n",
        "**purchase_log.txt** : a JSON-structured file that contains entries with user ID and the category of a product they purchased.\n",
        "**visit_log.csv** : a CSV table with two columns - user ID and the source where they came from (an e-mail letter, an advert on Google, etc.)\n",
        "\n",
        "OUTPUT:\n",
        "\n",
        "**funnel.csv** : a CSV table with three columns - user ID, source, and category. Only includes users which made a purchase with a valid category."
      ]
    },
    {
      "cell_type": "code",
      "metadata": {
        "colab": {
          "base_uri": "https://localhost:8080/",
          "height": 235
        },
        "id": "MPP3TOqzXVdh",
        "outputId": "cfdc0efe-afa0-4bc1-85a6-63fe2476a57f"
      },
      "source": [
        "# Stage 1: works with purchase_log.txt; extracts the data and stores it locally in a dictionary.\n",
        "\n",
        "purchases = {}\n",
        "\n",
        "with open(\"purchase_log.txt\") as file:\n",
        "  content = file.readlines()\n",
        "  first_line = True # ignore the first line (which contains the legend of the table)\n",
        "  for line in content:\n",
        "    if first_line != True:\n",
        "      # {\"user_id\": \"user_id_value\", \"category\": \"category_value\"}\\n\n",
        "      line = line.strip('{}\\n').replace('\"','').replace('user_id: ','').replace('category: ','')\n",
        "      # user_id_value, category_value\n",
        "      container = line.split(\", \")\n",
        "      user_id, category = container[0], container[1]\n",
        "      purchases[user_id] = category\n",
        "    first_line = False\n",
        "\n",
        "# Optional: extract a part of the dictionary to preview\n",
        "\"\"\"\n",
        "purchases_preview = {} \n",
        "i = 0\n",
        "for key, value in purchases.items():\n",
        "  i += 1\n",
        "  if i > 5:\n",
        "    break\n",
        "  purchases_preview[key] = value\n",
        "\n",
        "print(purchases_preview)\"\"\""
      ],
      "execution_count": 2,
      "outputs": [
        {
          "output_type": "error",
          "ename": "FileNotFoundError",
          "evalue": "ignored",
          "traceback": [
            "\u001b[0;31m---------------------------------------------------------------------------\u001b[0m",
            "\u001b[0;31mFileNotFoundError\u001b[0m                         Traceback (most recent call last)",
            "\u001b[0;32m<ipython-input-2-a5564fd47f54>\u001b[0m in \u001b[0;36m<module>\u001b[0;34m()\u001b[0m\n\u001b[1;32m     11\u001b[0m \u001b[0;34m\u001b[0m\u001b[0m\n\u001b[1;32m     12\u001b[0m \u001b[0;31m# put the file into the dictionary\u001b[0m\u001b[0;34m\u001b[0m\u001b[0;34m\u001b[0m\u001b[0;34m\u001b[0m\u001b[0m\n\u001b[0;32m---> 13\u001b[0;31m \u001b[0;32mwith\u001b[0m \u001b[0mopen\u001b[0m\u001b[0;34m(\u001b[0m\u001b[0;34m\"purchase_log.txt\"\u001b[0m\u001b[0;34m)\u001b[0m \u001b[0;32mas\u001b[0m \u001b[0mfile\u001b[0m\u001b[0;34m:\u001b[0m\u001b[0;34m\u001b[0m\u001b[0;34m\u001b[0m\u001b[0m\n\u001b[0m\u001b[1;32m     14\u001b[0m   \u001b[0mcontent\u001b[0m \u001b[0;34m=\u001b[0m \u001b[0mfile\u001b[0m\u001b[0;34m.\u001b[0m\u001b[0mreadlines\u001b[0m\u001b[0;34m(\u001b[0m\u001b[0;34m)\u001b[0m\u001b[0;34m\u001b[0m\u001b[0;34m\u001b[0m\u001b[0m\n\u001b[1;32m     15\u001b[0m   \u001b[0mfirst_line\u001b[0m \u001b[0;34m=\u001b[0m \u001b[0;32mTrue\u001b[0m \u001b[0;31m# ignore the first line ('user_id': 'category')\u001b[0m\u001b[0;34m\u001b[0m\u001b[0;34m\u001b[0m\u001b[0m\n",
            "\u001b[0;31mFileNotFoundError\u001b[0m: [Errno 2] No such file or directory: 'purchase_log.txt'"
          ]
        }
      ]
    },
    {
      "cell_type": "code",
      "metadata": {
        "colab": {
          "base_uri": "https://localhost:8080/",
          "height": 148
        },
        "id": "8Ql1jNVih16Q",
        "outputId": "4daa1820-833f-431f-a6a3-cb1ce92148bf"
      },
      "source": [
        "# Stage 2: works with visit_log.csv; assembles the funnel.csv. Assumes visit_log.csv cannot be stored locally, instead works with it line by line.\n",
        "\n",
        "def get_user_purchase_category ( user_id ):\n",
        "  if user_id in purchases:\n",
        "    return purchases[user_id]\n",
        "  return\n",
        "\n",
        "with open(\"visit_log.csv\") as file:\n",
        "  with open(\"funnel.csv\", \"w\") as target_file:\n",
        "    first_line = True\n",
        "    for line in file:\n",
        "      if first_line == True: # amend the \"legend\" line\n",
        "        target_file.write(line.strip(\"\\n\") + \",category\\n\")\n",
        "        first_line = False\n",
        "      else:\n",
        "        container = line.strip(\"\\n\").split(\",\")\n",
        "        user_id, visit_source = container[0], container[1]\n",
        "        category = get_user_purchase_category( user_id ) # if there is no purchase, returns None\n",
        "        if category != None:\n",
        "          target_file.write(user_id + \",\" + visit_source + \",\" + category + \"\\n\")\n",
        "\n",
        "# Optional: check funnel output\n",
        "\"\"\"\n",
        "with open(\"funnel.csv\") as double_check:\n",
        "  i = 0\n",
        "  for line in double_check:\n",
        "    i += 1\n",
        "    if i > 5:\n",
        "      break\n",
        "    print(line)\n",
        "\"\"\""
      ],
      "execution_count": 3,
      "outputs": [
        {
          "output_type": "error",
          "ename": "SyntaxError",
          "evalue": "ignored",
          "traceback": [
            "\u001b[0;36m  File \u001b[0;32m\"<ipython-input-3-7ea6a65b079b>\"\u001b[0;36m, line \u001b[0;32m30\u001b[0m\n\u001b[0;31m    print(line)\u001b[0m\n\u001b[0m               \n^\u001b[0m\n\u001b[0;31mSyntaxError\u001b[0m\u001b[0;31m:\u001b[0m EOF while scanning triple-quoted string literal\n"
          ]
        }
      ]
    }
  ]
}